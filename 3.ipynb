{
 "cells": [
  {
   "cell_type": "code",
   "execution_count": 1,
   "metadata": {},
   "outputs": [],
   "source": [
    "%load_ext autoreload\n",
    "%autoreload 2"
   ]
  },
  {
   "cell_type": "markdown",
   "metadata": {},
   "source": [
    "<div style=\"font-family: Vazirmatn; font-size:30px; direction: rtl; display: flex; align-items:center; justify-content:center; align-text:center; background-color: #d6336c; padding: 20px 40px;border: 1px solid black; border-radius: 5px\">\n",
    "مدلسازی و حل مسئله\n",
    "</div>"
   ]
  },
  {
   "cell_type": "code",
   "execution_count": 2,
   "metadata": {},
   "outputs": [
    {
     "name": "stdout",
     "output_type": "stream",
     "text": [
      "Is it feasible? True\n"
     ]
    },
    {
     "name": "stdout",
     "output_type": "stream",
     "text": [
      "objective function : 304260.8854868204\n",
      "0.1814081388212119\n",
      "{'A': 725.6325552848476, 'B': 2721.1220823181784, 'C': 362.8162776424238, 'D': 1451.2651105696953, 'E': 181.4081388212119}\n"
     ]
    }
   ],
   "source": [
    "# ---------------------------------------------------------------------------- #\n",
    "#                              Import the modules                              #\n",
    "# ---------------------------------------------------------------------------- #\n",
    "from pyomo.environ import *\n",
    "\n",
    "# ---------------------------------------------------------------------------- #\n",
    "#                             Initialize the MODEL                             #\n",
    "# ---------------------------------------------------------------------------- #\n",
    "\n",
    "model = ConcreteModel()\n",
    "\n",
    "# ---------------------------------------------------------------------------- #\n",
    "#                               Define the PARAMS                              #\n",
    "# ---------------------------------------------------------------------------- #\n",
    "products = ['A', 'B', 'C', 'D', 'E']\n",
    "D = {'A': 4000, 'B': 15000, 'C': 2000, 'D': 8000, 'E': 1000}\n",
    "A = {'A': 100, 'B': 120, 'C': 250, 'D': 250, 'E': 120}\n",
    "t = {'A': 0.2, 'B': 0.01, 'C': 0.1, 'D': 0.05, 'E': 0.2} \n",
    "P = {j: (1 / t[j]) * 2000 for j in products}\n",
    "D_P = {j: D[j]/P[j] for j in products}\n",
    "c = {'A': 5, 'B': 10, 'C': 20, 'D': 10, 'E': 5}  \n",
    "i = 0.2\n",
    "\n",
    "# ---------------------------------------------------------------------------- #\n",
    "#                             Define the VARIABLES                             #\n",
    "# ---------------------------------------------------------------------------- #\n",
    "model.T = Var(domain=NonNegativeReals) \n",
    "\n",
    "# ---------------------------------------------------------------------------- #\n",
    "#                         Define the OBJECTIVE FUNCTION                        #\n",
    "# ---------------------------------------------------------------------------- #\n",
    "model.objective = Objective(\n",
    "    expr=sum((A[j] * (1/model.T)) + (c[j] * D[j]) + (i * c[j] * model.T * D[j] * 0.5) * (1-D_P[j]) for j in products),\n",
    "    sense=minimize\n",
    ")\n",
    "\n",
    "# ---------------------------------------------------------------------------- #\n",
    "#                                  Constraints                                 #\n",
    "# ---------------------------------------------------------------------------- #\n",
    "\n",
    "# ----------------- 1. Is it possible to satisfy the demand in 1 year ---------------- #\n",
    "feasibility_constraint = sum((D_P[j]) for j in products) <= 1\n",
    "\n",
    "# ---------------------------------------------------------------------------- #\n",
    "#                                Solve the model                               #\n",
    "# ---------------------------------------------------------------------------- #\n",
    "print(\"Is it feasible?\", feasibility_constraint)\n",
    "solver = SolverFactory('ipopt')\n",
    "solver.solve(model)\n",
    "\n",
    "print(f'objective function : {value(model.objective)}')\n",
    "\n",
    "print(value(model.T))\n",
    "X = {j: value(model.T) * D[j] for j in products}\n",
    "print(X)"
   ]
  },
  {
   "cell_type": "code",
   "execution_count": null,
   "metadata": {},
   "outputs": [],
   "source": []
  }
 ],
 "metadata": {
  "kernelspec": {
   "display_name": "Python 3",
   "language": "python",
   "name": "python3"
  },
  "language_info": {
   "codemirror_mode": {
    "name": "ipython",
    "version": 3
   },
   "file_extension": ".py",
   "mimetype": "text/x-python",
   "name": "python",
   "nbconvert_exporter": "python",
   "pygments_lexer": "ipython3",
   "version": "3.11.2"
  }
 },
 "nbformat": 4,
 "nbformat_minor": 2
}
