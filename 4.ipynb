{
 "cells": [
  {
   "cell_type": "code",
   "execution_count": 1,
   "metadata": {},
   "outputs": [
    {
     "data": {
      "text/plain": [
       "(225, 3335.8383706998065)"
      ]
     },
     "execution_count": 1,
     "metadata": {},
     "output_type": "execute_result"
    }
   ],
   "source": [
    "from scipy.stats import binom\n",
    "\n",
    "# Given parameters\n",
    "D = 200\n",
    "e = 10\n",
    "d = 5\n",
    "p = 0.10\n",
    "c = 30\n",
    "r = 50\n",
    "min_acceptable = D - e  # Minimum conforming items\n",
    "max_paid = D + d  # Maximum items paid for\n",
    "alpha = 0.95  # Acceptance probability threshold\n",
    "\n",
    "# Function to calculate acceptance probability\n",
    "def acceptance_probability(n, min_acceptable, p):\n",
    "    return 1 - binom.cdf(min_acceptable - 1, n, 1 - p)\n",
    "\n",
    "# Function to calculate expected revenue\n",
    "def expected_revenue(n, max_paid, p, r):\n",
    "    probabilities = [binom.pmf(k, n, 1 - p) for k in range(max_paid + 1)]\n",
    "    revenue = sum(k * prob for k, prob in enumerate(probabilities))\n",
    "    overflow_prob = 1 - sum(probabilities)  # P(X > max_paid)\n",
    "    revenue += max_paid * overflow_prob\n",
    "    return r * revenue\n",
    "\n",
    "# Function to calculate profit\n",
    "def profit(n, min_acceptable, max_paid, p, c, r):\n",
    "    if acceptance_probability(n, min_acceptable, p) < alpha:\n",
    "        return float('-inf')  # Infeasible solution\n",
    "    rev = expected_revenue(n, max_paid, p, r)\n",
    "    return rev - c * n\n",
    "\n",
    "# Iteratively find the best n\n",
    "best_n = None\n",
    "best_profit = float('-inf')\n",
    "results = []\n",
    "\n",
    "for n in range(200, 500):  # Start from D and iterate upward\n",
    "    acc_prob = acceptance_probability(n, min_acceptable, p)\n",
    "    if acc_prob >= alpha:\n",
    "        current_profit = profit(n, min_acceptable, max_paid, p, c, r)\n",
    "        results.append((n, acc_prob, current_profit))\n",
    "        if current_profit > best_profit:\n",
    "            best_profit = current_profit\n",
    "            best_n = n\n",
    "\n",
    "best_n, best_profit\n"
   ]
  },
  {
   "cell_type": "code",
   "execution_count": null,
   "metadata": {},
   "outputs": [],
   "source": []
  }
 ],
 "metadata": {
  "kernelspec": {
   "display_name": "Python 3",
   "language": "python",
   "name": "python3"
  },
  "language_info": {
   "codemirror_mode": {
    "name": "ipython",
    "version": 3
   },
   "file_extension": ".py",
   "mimetype": "text/x-python",
   "name": "python",
   "nbconvert_exporter": "python",
   "pygments_lexer": "ipython3",
   "version": "3.11.2"
  }
 },
 "nbformat": 4,
 "nbformat_minor": 2
}
